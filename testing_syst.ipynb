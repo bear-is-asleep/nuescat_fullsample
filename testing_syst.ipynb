{
 "cells": [
  {
   "cell_type": "code",
   "execution_count": 1,
   "metadata": {},
   "outputs": [],
   "source": [
    "import numpy as np\n",
    "import uproot\n",
    "import pandas as pd\n",
    "import matplotlib.pyplot as plt\n",
    "#import plotly\n",
    "plt.style.use(['science','no-latex'])\n",
    "#plt.style.available"
   ]
  },
  {
   "cell_type": "code",
   "execution_count": 2,
   "metadata": {},
   "outputs": [],
   "source": [
    "genie_syst_tree = uproot.open('/sbnd/app/users/brindenc/mysbn/srcs/sbnana/sbnana/CAFAna/test/test_ensemble_genie_systs.root:systs;1')\n",
    "genie_syst = genie_syst_tree.arrays(library='pd')\n",
    "\n",
    "flux_syst_tree = uproot.open('/sbnd/app/users/brindenc/mysbn/srcs/sbnana/sbnana/CAFAna/test/test_ensemble_flux_systs.root:systs;1')\n",
    "flux_syst = flux_syst_tree.arrays(library='pd')"
   ]
  },
  {
   "cell_type": "code",
   "execution_count": 3,
   "metadata": {},
   "outputs": [],
   "source": [
    "genie_syst.loc[:,'yerr_minus'] = (genie_syst.loc[:,'ynom']-genie_syst.loc[:,'y0'])/genie_syst.loc[:,'ynom']\n",
    "genie_syst.loc[:,'yerr_plus'] = abs((genie_syst.loc[:,'ynom']-genie_syst.loc[:,'y1'])/genie_syst.loc[:,'ynom'])\n",
    "\n",
    "flux_syst.loc[:,'yerr_minus'] = (flux_syst.loc[:,'ynom']-flux_syst.loc[:,'y0'])/flux_syst.loc[:,'ynom']\n",
    "flux_syst.loc[:,'yerr_plus'] = abs((flux_syst.loc[:,'ynom']-flux_syst.loc[:,'y1'])/flux_syst.loc[:,'ynom'])\n",
    "\n",
    "genie_syst = genie_syst.fillna(0)\n",
    "flux_syst = flux_syst.fillna(0)"
   ]
  },
  {
   "cell_type": "code",
   "execution_count": 79,
   "metadata": {},
   "outputs": [
    {
     "data": {
      "text/html": [
       "<div>\n",
       "<style scoped>\n",
       "    .dataframe tbody tr th:only-of-type {\n",
       "        vertical-align: middle;\n",
       "    }\n",
       "\n",
       "    .dataframe tbody tr th {\n",
       "        vertical-align: top;\n",
       "    }\n",
       "\n",
       "    .dataframe thead th {\n",
       "        text-align: right;\n",
       "    }\n",
       "</style>\n",
       "<table border=\"1\" class=\"dataframe\">\n",
       "  <thead>\n",
       "    <tr style=\"text-align: right;\">\n",
       "      <th></th>\n",
       "      <th></th>\n",
       "      <th>xnom</th>\n",
       "      <th>ynom</th>\n",
       "      <th>y0</th>\n",
       "      <th>y1</th>\n",
       "      <th>dx</th>\n",
       "      <th>yerr_minus</th>\n",
       "      <th>yerr_plus</th>\n",
       "    </tr>\n",
       "    <tr>\n",
       "      <th>entry</th>\n",
       "      <th>subentry</th>\n",
       "      <th></th>\n",
       "      <th></th>\n",
       "      <th></th>\n",
       "      <th></th>\n",
       "      <th></th>\n",
       "      <th></th>\n",
       "      <th></th>\n",
       "    </tr>\n",
       "  </thead>\n",
       "  <tbody>\n",
       "    <tr>\n",
       "      <th rowspan=\"20\" valign=\"top\">0</th>\n",
       "      <th>0</th>\n",
       "      <td>-0.05</td>\n",
       "      <td>0.000000</td>\n",
       "      <td>0.000000</td>\n",
       "      <td>0.000000</td>\n",
       "      <td>0.1</td>\n",
       "      <td>0.000000</td>\n",
       "      <td>0.000000</td>\n",
       "    </tr>\n",
       "    <tr>\n",
       "      <th>1</th>\n",
       "      <td>0.05</td>\n",
       "      <td>0.000000</td>\n",
       "      <td>0.000000</td>\n",
       "      <td>0.000000</td>\n",
       "      <td>0.1</td>\n",
       "      <td>0.000000</td>\n",
       "      <td>0.000000</td>\n",
       "    </tr>\n",
       "    <tr>\n",
       "      <th>2</th>\n",
       "      <td>0.15</td>\n",
       "      <td>0.000000</td>\n",
       "      <td>0.000000</td>\n",
       "      <td>0.000000</td>\n",
       "      <td>0.1</td>\n",
       "      <td>0.000000</td>\n",
       "      <td>0.000000</td>\n",
       "    </tr>\n",
       "    <tr>\n",
       "      <th>3</th>\n",
       "      <td>0.25</td>\n",
       "      <td>12.485865</td>\n",
       "      <td>12.900965</td>\n",
       "      <td>17.928246</td>\n",
       "      <td>0.1</td>\n",
       "      <td>-0.033246</td>\n",
       "      <td>0.435883</td>\n",
       "    </tr>\n",
       "    <tr>\n",
       "      <th>4</th>\n",
       "      <td>0.35</td>\n",
       "      <td>74.915192</td>\n",
       "      <td>70.323463</td>\n",
       "      <td>78.494553</td>\n",
       "      <td>0.1</td>\n",
       "      <td>0.061292</td>\n",
       "      <td>0.047779</td>\n",
       "    </tr>\n",
       "    <tr>\n",
       "      <th>5</th>\n",
       "      <td>0.45</td>\n",
       "      <td>99.886917</td>\n",
       "      <td>99.951447</td>\n",
       "      <td>115.899078</td>\n",
       "      <td>0.1</td>\n",
       "      <td>-0.000646</td>\n",
       "      <td>0.160303</td>\n",
       "    </tr>\n",
       "    <tr>\n",
       "      <th>6</th>\n",
       "      <td>0.55</td>\n",
       "      <td>249.717300</td>\n",
       "      <td>245.827408</td>\n",
       "      <td>280.724854</td>\n",
       "      <td>0.1</td>\n",
       "      <td>0.015577</td>\n",
       "      <td>0.124171</td>\n",
       "    </tr>\n",
       "    <tr>\n",
       "      <th>7</th>\n",
       "      <td>0.65</td>\n",
       "      <td>274.689026</td>\n",
       "      <td>265.007050</td>\n",
       "      <td>299.834747</td>\n",
       "      <td>0.1</td>\n",
       "      <td>0.035247</td>\n",
       "      <td>0.091543</td>\n",
       "    </tr>\n",
       "    <tr>\n",
       "      <th>8</th>\n",
       "      <td>0.75</td>\n",
       "      <td>162.316238</td>\n",
       "      <td>164.574921</td>\n",
       "      <td>187.514557</td>\n",
       "      <td>0.1</td>\n",
       "      <td>-0.013915</td>\n",
       "      <td>0.155242</td>\n",
       "    </tr>\n",
       "    <tr>\n",
       "      <th>9</th>\n",
       "      <td>0.85</td>\n",
       "      <td>362.090088</td>\n",
       "      <td>343.133820</td>\n",
       "      <td>380.408936</td>\n",
       "      <td>0.1</td>\n",
       "      <td>0.052352</td>\n",
       "      <td>0.050592</td>\n",
       "    </tr>\n",
       "    <tr>\n",
       "      <th>10</th>\n",
       "      <td>0.95</td>\n",
       "      <td>387.061798</td>\n",
       "      <td>383.612579</td>\n",
       "      <td>427.479797</td>\n",
       "      <td>0.1</td>\n",
       "      <td>0.008911</td>\n",
       "      <td>0.104423</td>\n",
       "    </tr>\n",
       "    <tr>\n",
       "      <th>11</th>\n",
       "      <td>1.05</td>\n",
       "      <td>362.090088</td>\n",
       "      <td>357.643005</td>\n",
       "      <td>421.046936</td>\n",
       "      <td>0.1</td>\n",
       "      <td>0.012282</td>\n",
       "      <td>0.162824</td>\n",
       "    </tr>\n",
       "    <tr>\n",
       "      <th>12</th>\n",
       "      <td>1.15</td>\n",
       "      <td>274.689026</td>\n",
       "      <td>264.615692</td>\n",
       "      <td>295.179138</td>\n",
       "      <td>0.1</td>\n",
       "      <td>0.036672</td>\n",
       "      <td>0.074594</td>\n",
       "    </tr>\n",
       "    <tr>\n",
       "      <th>13</th>\n",
       "      <td>1.25</td>\n",
       "      <td>324.632477</td>\n",
       "      <td>299.727142</td>\n",
       "      <td>338.058014</td>\n",
       "      <td>0.1</td>\n",
       "      <td>0.076719</td>\n",
       "      <td>0.041356</td>\n",
       "    </tr>\n",
       "    <tr>\n",
       "      <th>14</th>\n",
       "      <td>1.35</td>\n",
       "      <td>262.203156</td>\n",
       "      <td>245.495682</td>\n",
       "      <td>277.815613</td>\n",
       "      <td>0.1</td>\n",
       "      <td>0.063720</td>\n",
       "      <td>0.059543</td>\n",
       "    </tr>\n",
       "    <tr>\n",
       "      <th>15</th>\n",
       "      <td>1.45</td>\n",
       "      <td>424.519409</td>\n",
       "      <td>390.433075</td>\n",
       "      <td>462.806183</td>\n",
       "      <td>0.1</td>\n",
       "      <td>0.080294</td>\n",
       "      <td>0.090189</td>\n",
       "    </tr>\n",
       "    <tr>\n",
       "      <th>16</th>\n",
       "      <td>1.55</td>\n",
       "      <td>324.632477</td>\n",
       "      <td>304.941650</td>\n",
       "      <td>337.880249</td>\n",
       "      <td>0.1</td>\n",
       "      <td>0.060656</td>\n",
       "      <td>0.040809</td>\n",
       "    </tr>\n",
       "    <tr>\n",
       "      <th>17</th>\n",
       "      <td>1.65</td>\n",
       "      <td>312.146606</td>\n",
       "      <td>291.189758</td>\n",
       "      <td>322.891144</td>\n",
       "      <td>0.1</td>\n",
       "      <td>0.067138</td>\n",
       "      <td>0.034421</td>\n",
       "    </tr>\n",
       "    <tr>\n",
       "      <th>18</th>\n",
       "      <td>1.75</td>\n",
       "      <td>287.174896</td>\n",
       "      <td>262.544891</td>\n",
       "      <td>298.053619</td>\n",
       "      <td>0.1</td>\n",
       "      <td>0.085767</td>\n",
       "      <td>0.037882</td>\n",
       "    </tr>\n",
       "    <tr>\n",
       "      <th>19</th>\n",
       "      <td>1.85</td>\n",
       "      <td>324.632477</td>\n",
       "      <td>301.747803</td>\n",
       "      <td>340.499329</td>\n",
       "      <td>0.1</td>\n",
       "      <td>0.070494</td>\n",
       "      <td>0.048876</td>\n",
       "    </tr>\n",
       "  </tbody>\n",
       "</table>\n",
       "</div>"
      ],
      "text/plain": [
       "                xnom        ynom          y0          y1   dx  yerr_minus  \\\n",
       "entry subentry                                                              \n",
       "0     0        -0.05    0.000000    0.000000    0.000000  0.1    0.000000   \n",
       "      1         0.05    0.000000    0.000000    0.000000  0.1    0.000000   \n",
       "      2         0.15    0.000000    0.000000    0.000000  0.1    0.000000   \n",
       "      3         0.25   12.485865   12.900965   17.928246  0.1   -0.033246   \n",
       "      4         0.35   74.915192   70.323463   78.494553  0.1    0.061292   \n",
       "      5         0.45   99.886917   99.951447  115.899078  0.1   -0.000646   \n",
       "      6         0.55  249.717300  245.827408  280.724854  0.1    0.015577   \n",
       "      7         0.65  274.689026  265.007050  299.834747  0.1    0.035247   \n",
       "      8         0.75  162.316238  164.574921  187.514557  0.1   -0.013915   \n",
       "      9         0.85  362.090088  343.133820  380.408936  0.1    0.052352   \n",
       "      10        0.95  387.061798  383.612579  427.479797  0.1    0.008911   \n",
       "      11        1.05  362.090088  357.643005  421.046936  0.1    0.012282   \n",
       "      12        1.15  274.689026  264.615692  295.179138  0.1    0.036672   \n",
       "      13        1.25  324.632477  299.727142  338.058014  0.1    0.076719   \n",
       "      14        1.35  262.203156  245.495682  277.815613  0.1    0.063720   \n",
       "      15        1.45  424.519409  390.433075  462.806183  0.1    0.080294   \n",
       "      16        1.55  324.632477  304.941650  337.880249  0.1    0.060656   \n",
       "      17        1.65  312.146606  291.189758  322.891144  0.1    0.067138   \n",
       "      18        1.75  287.174896  262.544891  298.053619  0.1    0.085767   \n",
       "      19        1.85  324.632477  301.747803  340.499329  0.1    0.070494   \n",
       "\n",
       "                yerr_plus  \n",
       "entry subentry             \n",
       "0     0          0.000000  \n",
       "      1          0.000000  \n",
       "      2          0.000000  \n",
       "      3          0.435883  \n",
       "      4          0.047779  \n",
       "      5          0.160303  \n",
       "      6          0.124171  \n",
       "      7          0.091543  \n",
       "      8          0.155242  \n",
       "      9          0.050592  \n",
       "      10         0.104423  \n",
       "      11         0.162824  \n",
       "      12         0.074594  \n",
       "      13         0.041356  \n",
       "      14         0.059543  \n",
       "      15         0.090189  \n",
       "      16         0.040809  \n",
       "      17         0.034421  \n",
       "      18         0.037882  \n",
       "      19         0.048876  "
      ]
     },
     "execution_count": 79,
     "metadata": {},
     "output_type": "execute_result"
    }
   ],
   "source": [
    "genie_syst.head(20)\n",
    "flux_syst.head(20)"
   ]
  },
  {
   "cell_type": "code",
   "execution_count": 5,
   "metadata": {},
   "outputs": [
    {
     "data": {
      "text/plain": [
       "<AxesSubplot:xlabel='xnom'>"
      ]
     },
     "execution_count": 5,
     "metadata": {},
     "output_type": "execute_result"
    },
    {
     "data": {
      "image/png": "[encoded data removed]",
      "text/plain": [
       "<Figure size 252x189 with 1 Axes>"
      ]
     },
     "metadata": {
      "needs_background": "light"
     },
     "output_type": "display_data"
    },
    {
     "data": {
      "image/png": "[encoded data removed]",
      "text/plain": [
       "<Figure size 252x189 with 1 Axes>"
      ]
     },
     "metadata": {
      "needs_background": "light"
     },
     "output_type": "display_data"
    }
   ],
   "source": [
    "genie_syst.plot('xnom','yerr_minus')\n",
    "genie_syst.plot('xnom','yerr_plus')"
   ]
  },
  {
   "attachments": {},
   "cell_type": "markdown",
   "metadata": {},
   "source": [
    "$x=1$"
   ]
  },
  {
   "cell_type": "code",
   "execution_count": 44,
   "metadata": {},
   "outputs": [],
   "source": [
    "def set_style(ax):\n",
    "  ax.tick_params(axis='x', labelsize=20)\n",
    "  ax.tick_params(axis='y', labelsize=20)"
   ]
  },
  {
   "cell_type": "code",
   "execution_count": 83,
   "metadata": {},
   "outputs": [
    {
     "data": {
      "text/plain": [
       "'2023_01_17'"
      ]
     },
     "execution_count": 83,
     "metadata": {},
     "output_type": "execute_result"
    }
   ],
   "source": [
    "from datetime import date\n",
    "\n",
    "day = date.today().strftime(\"%Y_%m_%d\")\n",
    "day"
   ]
  },
  {
   "cell_type": "code",
   "execution_count": 88,
   "metadata": {},
   "outputs": [
    {
     "data": {
      "text/plain": [
       "1.041626676009974"
      ]
     },
     "execution_count": 88,
     "metadata": {},
     "output_type": "execute_result"
    }
   ],
   "source": [
    "np.arctan(200/110e2)*180/np.pi"
   ]
  },
  {
   "cell_type": "code",
   "execution_count": 6,
   "metadata": {},
   "outputs": [
    {
     "data": {
      "text/plain": [
       "Text(0.5, 1.0, 'Fractional Systematic Uncertainties')"
      ]
     },
     "execution_count": 6,
     "metadata": {},
     "output_type": "execute_result"
    },
    {
     "data": {
      "image/png": "[encoded data removed]",
      "text/plain": [
       "<Figure size 576x432 with 1 Axes>"
      ]
     },
     "metadata": {
      "needs_background": "light"
     },
     "output_type": "display_data"
    }
   ],
   "source": [
    "x = genie_syst.loc[:,'xnom'].values\n",
    "\n",
    "y_label = 'yerr_minus'\n",
    "y = genie_syst.loc[:,y_label].values\n",
    "y2 = flux_syst.loc[:,y_label].values\n",
    "\n",
    "y1_label = 'yerr_plus'\n",
    "y1 = genie_syst.loc[:,y1_label].values\n",
    "y3 = flux_syst.loc[:,y1_label].values\n",
    "fig, ax = plt.subplots(figsize=(8, 6), tight_layout=True)\n",
    "#plt.rcParams['text.usetex'] = True\n",
    "\n",
    "ax.plot(x,(y+y1)/2,label='genie')\n",
    "#plt.plot(x,y1,label=y1_label+' genie')\n",
    "#plt.plot(x,y2,label=y_label+' flux')\n",
    "#ax.bar(x,(y2+y3)/2,label='flux',linewidth=3,alpha=1,edgecolor='blue')\n",
    "ax.plot(x,(y2+y3)/2,label='flux')\n",
    "ax.legend(fontsize=16)\n",
    "ax.set_xlabel('$E$nergy',fontsize=14)\n",
    "ax.set_ylabel('$[(y_{nom}-y_0)/y_{nom}+(y_1-y_{nom})/y_{nom})]/2$',fontsize=14)\n",
    "ax.set_title('Fractional Systematic Uncertainties',fontsize=18)"
   ]
  },
  {
   "cell_type": "code",
   "execution_count": 82,
   "metadata": {},
   "outputs": [
    {
     "data": {
      "text/plain": [
       "Text(0.5, 1.0, 'Interaction Uncertainties')"
      ]
     },
     "execution_count": 82,
     "metadata": {},
     "output_type": "execute_result"
    },
    {
     "data": {
      "image/png": "[encoded data removed]",
      "text/plain": [
       "<Figure size 576x432 with 1 Axes>"
      ]
     },
     "metadata": {
      "needs_background": "light"
     },
     "output_type": "display_data"
    },
    {
     "data": {
      "image/png": "[encoded data removed]",
      "text/plain": [
       "<Figure size 576x432 with 1 Axes>"
      ]
     },
     "metadata": {
      "needs_background": "light"
     },
     "output_type": "display_data"
    }
   ],
   "source": [
    "#Error bar hist\n",
    "x = genie_syst.loc[:,'xnom']\n",
    "dx = genie_syst.loc[:,'dx'].values[0]\n",
    "\n",
    "y_syst = genie_syst.loc[:,'ynom']\n",
    "y_flux = flux_syst.loc[:,'ynom']\n",
    "\n",
    "y0_syst = genie_syst.loc[:,'y0']\n",
    "y0_flux = flux_syst.loc[:,'y0']\n",
    "\n",
    "y1_syst = genie_syst.loc[:,'y1']\n",
    "y1_flux = flux_syst.loc[:,'y1']\n",
    "\n",
    "yerrs_syst = [y1_syst,y0_syst]\n",
    "yerrs_flux = [y1_flux,y0_flux]\n",
    "\n",
    "fig, ax = plt.subplots(figsize=(8, 6), tight_layout=True)\n",
    "\n",
    "ax.bar(x,y_flux,width=dx,color='blue',alpha=0.3,edgecolor='blue',linewidth=2)\n",
    "ax.bar(x,height=y1_flux-y0_flux,width=dx,bottom=y0_flux,alpha=0.4)\n",
    "ax.set_ylim([0,None])\n",
    "ax.set_xlabel('Energy [GeV]',fontsize=16)\n",
    "ax.set_ylabel('Counts',fontsize=16)\n",
    "set_style(ax)\n",
    "ax.set_title('Flux Uncertainties',fontsize=20)\n",
    "\n",
    "fig, ax = plt.subplots(figsize=(8, 6), tight_layout=True)\n",
    "\n",
    "ax.bar(x,y_syst,width=dx,color='red',alpha=0.3,edgecolor='red',linewidth=2)\n",
    "ax.bar(x,height=y1_syst-y0_syst,width=dx,bottom=y0_syst,alpha=0.4,color='red')\n",
    "ax.set_ylim([0,None])\n",
    "ax.set_xlabel('Energy [GeV]',fontsize=16)\n",
    "ax.set_ylabel('Counts',fontsize=16)\n",
    "set_style(ax)\n",
    "ax.set_title('Interaction Uncertainties',fontsize=20)"
   ]
  },
  {
   "cell_type": "code",
   "execution_count": 76,
   "metadata": {},
   "outputs": [
    {
     "data": {
      "text/plain": [
       "entry  subentry\n",
       "0      0            0.000000\n",
       "       1            0.000000\n",
       "       2            0.000000\n",
       "       3           -0.415100\n",
       "       4            4.591728\n",
       "       5           -0.064529\n",
       "       6            3.889893\n",
       "       7            9.681976\n",
       "       8           -2.258682\n",
       "       9           18.956268\n",
       "       10           3.449219\n",
       "       11           4.447083\n",
       "       12          10.073334\n",
       "       13          24.905334\n",
       "       14          16.707474\n",
       "       15          34.086334\n",
       "       16          19.690826\n",
       "       17          20.956848\n",
       "       18          24.630005\n",
       "       19          22.884674\n",
       "       20          15.314301\n",
       "       21          18.909576\n",
       "       22          13.148224\n",
       "       23          14.321136\n",
       "       24          18.688873\n",
       "       25           7.948944\n",
       "       26          16.634590\n",
       "       27          11.280785\n",
       "       28          12.363235\n",
       "       29          12.848969\n",
       "       30          42.923218\n",
       "       31          71.919098\n",
       "dtype: float32"
      ]
     },
     "execution_count": 76,
     "metadata": {},
     "output_type": "execute_result"
    }
   ],
   "source": [
    "y_flux-y0_flux"
   ]
  },
  {
   "cell_type": "code",
   "execution_count": 38,
   "metadata": {},
   "outputs": [
    {
     "data": {
      "text/plain": [
       "<BarContainer object of 4 artists>"
      ]
     },
     "execution_count": 38,
     "metadata": {},
     "output_type": "execute_result"
    },
    {
     "data": {
      "image/png": "[encoded data removed]",
      "text/plain": [
       "<Figure size 252x189 with 1 Axes>"
      ]
     },
     "metadata": {
      "needs_background": "light"
     },
     "output_type": "display_data"
    }
   ],
   "source": [
    "a = [1, 3, 5, 7]\n",
    "b = [11, 2, 4, 19]\n",
    "  \n",
    "plt.bar(a, b)"
   ]
  },
  {
   "cell_type": "code",
   "execution_count": 39,
   "metadata": {},
   "outputs": [
    {
     "data": {
      "text/plain": [
       "0.1"
      ]
     },
     "execution_count": 39,
     "metadata": {},
     "output_type": "execute_result"
    }
   ],
   "source": [
    "dx"
   ]
  },
  {
   "cell_type": "code",
   "execution_count": null,
   "metadata": {},
   "outputs": [],
   "source": []
  }
 ],
 "metadata": {
  "kernelspec": {
   "display_name": "Python 3",
   "language": "python",
   "name": "python3"
  },
  "language_info": {
   "codemirror_mode": {
    "name": "ipython",
    "version": 3
   },
   "file_extension": ".py",
   "mimetype": "text/x-python",
   "name": "python",
   "nbconvert_exporter": "python",
   "pygments_lexer": "ipython3",
   "version": "3.9.10 (main, Jul  6 2022, 17:07:12) \n[GCC 9.3.0]"
  },
  "orig_nbformat": 4,
  "vscode": {
   "interpreter": {
    "hash": "51aec37dd7fb1921fc1e35ebc6f61bbef3f1d9ffba04ba29b2463a5c055c07be"
   }
  }
 },
 "nbformat": 4,
 "nbformat_minor": 2
}
