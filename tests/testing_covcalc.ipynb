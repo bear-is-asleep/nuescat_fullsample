{
 "cells": [
  {
   "cell_type": "code",
   "execution_count": 1,
   "metadata": {},
   "outputs": [],
   "source": [
    "import pandas as pd\n",
    "import seaborn as sns\n",
    "import numpy as np\n",
    "import uproot\n",
    "import matplotlib.pyplot as plt\n",
    "import matplotlib.cm as cm\n",
    "\n",
    "import sys\n",
    "sys.path.append('../')\n",
    "from CAFdata import *\n",
    "import helpers\n",
    "from datetime import date\n",
    "\n",
    "%load_ext autoreload\n",
    "%autoreload 2"
   ]
  },
  {
   "cell_type": "code",
   "execution_count": null,
   "metadata": {},
   "outputs": [],
   "source": [
    "day = date.today().strftime(\"%Y_%m_%d\")\n",
    "state_dir = f'/sbnd/data/users/brindenc/analyze_sbnd/nue/states/2022A/2023_1_26_systs'\n"
   ]
  },
  {
   "cell_type": "code",
   "execution_count": null,
   "metadata": {},
   "outputs": [],
   "source": []
  }
 ],
 "metadata": {
  "kernelspec": {
   "display_name": "Python 3",
   "language": "python",
   "name": "python3"
  },
  "language_info": {
   "codemirror_mode": {
    "name": "ipython",
    "version": 3
   },
   "file_extension": ".py",
   "mimetype": "text/x-python",
   "name": "python",
   "nbconvert_exporter": "python",
   "pygments_lexer": "ipython3",
   "version": "3.9.10 (main, Jul  6 2022, 17:07:12) \n[GCC 9.3.0]"
  },
  "orig_nbformat": 4,
  "vscode": {
   "interpreter": {
    "hash": "51aec37dd7fb1921fc1e35ebc6f61bbef3f1d9ffba04ba29b2463a5c055c07be"
   }
  }
 },
 "nbformat": 4,
 "nbformat_minor": 2
}
